{
 "cells": [
  {
   "cell_type": "code",
   "execution_count": 25,
   "metadata": {},
   "outputs": [],
   "source": [
    "import numpy as np\n",
    "import pandas as pd\n",
    "import scipy.stats as stats\n",
    "import matplotlib.pyplot as plt\n",
    "import seaborn as sns\n",
    "\n",
    "%matplotlib inline"
   ]
  },
  {
   "cell_type": "markdown",
   "metadata": {},
   "source": [
    "In this notebook, I clean the test data the same exact way I cleaned by training data. At the end, both my training, testing data sets will have consistency in data types and how null values changed."
   ]
  },
  {
   "cell_type": "code",
   "execution_count": 3,
   "metadata": {},
   "outputs": [],
   "source": [
    "#load in the training CSV\n",
    "test_csv = pd.read_csv('./datasets/test.csv')"
   ]
  },
  {
   "cell_type": "code",
   "execution_count": 28,
   "metadata": {},
   "outputs": [],
   "source": [
    "#Select same columns I chose for my training data \n",
    "test_clean = test_csv[['Id',\n",
    "                       'Lot Area',\n",
    "                       'Overall Qual',\n",
    "                       'Year Built', \n",
    "                       'Year Remod/Add',\n",
    "                       'Mas Vnr Area',\n",
    "                       'Exter Qual',\n",
    "                       'Bsmt Qual',         \n",
    "                       'Gr Liv Area',\n",
    "                       'Full Bath',\n",
    "                       'Half Bath',\n",
    "                       'Total Bsmt SF',\n",
    "                       'Garage Cars',\n",
    "                       'Garage Area',\n",
    "                       'Fireplaces',\n",
    "                       'TotRms AbvGrd',\n",
    "                       'Kitchen Qual',\n",
    "                       ]]"
   ]
  },
  {
   "cell_type": "code",
   "execution_count": 29,
   "metadata": {
    "scrolled": true
   },
   "outputs": [
    {
     "data": {
      "text/plain": [
       "Id                  int64\n",
       "Lot Area            int64\n",
       "Overall Qual        int64\n",
       "Year Built          int64\n",
       "Year Remod/Add      int64\n",
       "Mas Vnr Area      float64\n",
       "Exter Qual         object\n",
       "Bsmt Qual          object\n",
       "Gr Liv Area         int64\n",
       "Full Bath           int64\n",
       "Half Bath           int64\n",
       "Total Bsmt SF       int64\n",
       "Garage Cars         int64\n",
       "Garage Area         int64\n",
       "Fireplaces          int64\n",
       "TotRms AbvGrd       int64\n",
       "Kitchen Qual       object\n",
       "dtype: object"
      ]
     },
     "execution_count": 29,
     "metadata": {},
     "output_type": "execute_result"
    }
   ],
   "source": [
    "test_clean.dtypes"
   ]
  },
  {
   "cell_type": "code",
   "execution_count": 30,
   "metadata": {},
   "outputs": [
    {
     "data": {
      "text/plain": [
       "Id                 0\n",
       "Lot Area           0\n",
       "Overall Qual       0\n",
       "Year Built         0\n",
       "Year Remod/Add     0\n",
       "Mas Vnr Area       1\n",
       "Exter Qual         0\n",
       "Bsmt Qual         25\n",
       "Gr Liv Area        0\n",
       "Full Bath          0\n",
       "Half Bath          0\n",
       "Total Bsmt SF      0\n",
       "Garage Cars        0\n",
       "Garage Area        0\n",
       "Fireplaces         0\n",
       "TotRms AbvGrd      0\n",
       "Kitchen Qual       0\n",
       "dtype: int64"
      ]
     },
     "execution_count": 30,
     "metadata": {},
     "output_type": "execute_result"
    }
   ],
   "source": [
    "test_clean.isnull().sum()"
   ]
  },
  {
   "cell_type": "code",
   "execution_count": 31,
   "metadata": {},
   "outputs": [],
   "source": [
    "#change ordinal values to nominal, objects to floats if possible"
   ]
  },
  {
   "cell_type": "code",
   "execution_count": 43,
   "metadata": {},
   "outputs": [
    {
     "data": {
      "text/plain": [
       "0"
      ]
     },
     "execution_count": 43,
     "metadata": {},
     "output_type": "execute_result"
    }
   ],
   "source": [
    "#change basement quality to a nominal value(rating scale) \n",
    "test_clean.loc[test_clean['Exter Qual'] == 'Po' , 'Exter Qual'] = 1\n",
    "test_clean.loc[test_clean['Exter Qual'] == 'Fa' , 'Exter Qual'] = 2\n",
    "test_clean.loc[test_clean['Exter Qual'] == 'TA' , 'Exter Qual'] = 3\n",
    "test_clean.loc[test_clean['Exter Qual'] == 'Gd' , 'Exter Qual'] = 4\n",
    "test_clean.loc[test_clean['Exter Qual'] == 'Ex' , 'Exter Qual'] = 5\n",
    "test_clean.loc[test_clean['Exter Qual'].isnull(), 'Exter Qual'] = 0\n",
    "\n",
    "test_clean['Exter Qual'].isnull().sum()"
   ]
  },
  {
   "cell_type": "code",
   "execution_count": 44,
   "metadata": {},
   "outputs": [
    {
     "data": {
      "text/plain": [
       "3    552\n",
       "4    292\n",
       "5     26\n",
       "2      9\n",
       "Name: Exter Qual, dtype: int64"
      ]
     },
     "execution_count": 44,
     "metadata": {},
     "output_type": "execute_result"
    }
   ],
   "source": [
    "test_clean['Exter Qual'].value_counts()"
   ]
  },
  {
   "cell_type": "code",
   "execution_count": 45,
   "metadata": {},
   "outputs": [
    {
     "data": {
      "text/plain": [
       "0"
      ]
     },
     "execution_count": 45,
     "metadata": {},
     "output_type": "execute_result"
    }
   ],
   "source": [
    "#change basement quality to a nominal value(rating scale) \n",
    "test_clean.loc[test_clean['Bsmt Qual'] == 'Po' , 'Bsmt Qual'] = 1\n",
    "test_clean.loc[test_clean['Bsmt Qual'] == 'Fa' , 'Bsmt Qual'] = 2\n",
    "test_clean.loc[test_clean['Bsmt Qual'] == 'TA' , 'Bsmt Qual'] = 3\n",
    "test_clean.loc[test_clean['Bsmt Qual'] == 'Gd' , 'Bsmt Qual'] = 4\n",
    "test_clean.loc[test_clean['Bsmt Qual'] == 'Ex' , 'Bsmt Qual'] = 5\n",
    "test_clean.loc[test_clean['Bsmt Qual'].isnull(), 'Bsmt Qual'] = 0\n",
    "\n",
    "test_clean['Bsmt Qual'].isnull().sum()"
   ]
  },
  {
   "cell_type": "code",
   "execution_count": 46,
   "metadata": {},
   "outputs": [
    {
     "data": {
      "text/plain": [
       "3    396\n",
       "4    355\n",
       "5     74\n",
       "2     28\n",
       "0     25\n",
       "1      1\n",
       "Name: Bsmt Qual, dtype: int64"
      ]
     },
     "execution_count": 46,
     "metadata": {},
     "output_type": "execute_result"
    }
   ],
   "source": [
    "test_clean['Bsmt Qual'].value_counts()"
   ]
  },
  {
   "cell_type": "code",
   "execution_count": 47,
   "metadata": {},
   "outputs": [
    {
     "data": {
      "text/plain": [
       "0"
      ]
     },
     "execution_count": 47,
     "metadata": {},
     "output_type": "execute_result"
    }
   ],
   "source": [
    "#change kitchen quality to int values\n",
    "test_clean.loc[test_clean['Kitchen Qual'] == 'Po' , 'Kitchen Qual'] = 1\n",
    "test_clean.loc[test_clean['Kitchen Qual'] == 'Fa' , 'Kitchen Qual'] = 2\n",
    "test_clean.loc[test_clean['Kitchen Qual'] == 'TA' , 'Kitchen Qual'] = 3\n",
    "test_clean.loc[test_clean['Kitchen Qual'] == 'Gd' , 'Kitchen Qual'] = 4\n",
    "test_clean.loc[test_clean['Kitchen Qual'] == 'Ex' , 'Kitchen Qual'] = 5\n",
    "test_clean.loc[test_clean['Kitchen Qual'].isnull(), 'Kitchen Qual'] = 0\n",
    "\n",
    "test_clean['Kitchen Qual'].isnull().sum()"
   ]
  },
  {
   "cell_type": "code",
   "execution_count": 42,
   "metadata": {},
   "outputs": [
    {
     "data": {
      "text/plain": [
       "3    447\n",
       "4    354\n",
       "5     54\n",
       "2     23\n",
       "1      1\n",
       "Name: Kitchen Qual, dtype: int64"
      ]
     },
     "execution_count": 42,
     "metadata": {},
     "output_type": "execute_result"
    }
   ],
   "source": [
    "test_clean['Kitchen Qual'].value_counts()"
   ]
  },
  {
   "cell_type": "code",
   "execution_count": 48,
   "metadata": {},
   "outputs": [
    {
     "data": {
      "text/plain": [
       "0"
      ]
     },
     "execution_count": 48,
     "metadata": {},
     "output_type": "execute_result"
    }
   ],
   "source": [
    "#Change null values to zero\n",
    "test_clean.loc[test_clean[\"Mas Vnr Area\"].isnull(), 'Mas Vnr Area'] = 0\n",
    "test_clean['Mas Vnr Area'].isnull().sum()"
   ]
  },
  {
   "cell_type": "code",
   "execution_count": 49,
   "metadata": {},
   "outputs": [
    {
     "data": {
      "text/plain": [
       "0"
      ]
     },
     "execution_count": 49,
     "metadata": {},
     "output_type": "execute_result"
    }
   ],
   "source": [
    "test_clean.loc[test_clean['Total Bsmt SF'].isnull(), 'Total Bsmt SF'] = 0\n",
    "test_clean['Total Bsmt SF'].isnull().sum()"
   ]
  },
  {
   "cell_type": "code",
   "execution_count": 50,
   "metadata": {},
   "outputs": [
    {
     "data": {
      "text/plain": [
       "0"
      ]
     },
     "execution_count": 50,
     "metadata": {},
     "output_type": "execute_result"
    }
   ],
   "source": [
    "test_clean.loc[test_clean['Garage Cars'].isnull(), 'Garage Cars'] = 0\n",
    "test_clean['Garage Cars'].isnull().sum()"
   ]
  },
  {
   "cell_type": "code",
   "execution_count": 51,
   "metadata": {},
   "outputs": [
    {
     "data": {
      "text/plain": [
       "0"
      ]
     },
     "execution_count": 51,
     "metadata": {},
     "output_type": "execute_result"
    }
   ],
   "source": [
    "test_clean.loc[test_clean['Garage Area'].isnull(), 'Garage Area'] = 0\n",
    "test_clean['Garage Area'].isnull().sum()"
   ]
  },
  {
   "cell_type": "code",
   "execution_count": 52,
   "metadata": {
    "scrolled": true
   },
   "outputs": [
    {
     "data": {
      "text/plain": [
       "Id                0\n",
       "Lot Area          0\n",
       "Overall Qual      0\n",
       "Year Built        0\n",
       "Year Remod/Add    0\n",
       "Mas Vnr Area      0\n",
       "Exter Qual        0\n",
       "Bsmt Qual         0\n",
       "Gr Liv Area       0\n",
       "Full Bath         0\n",
       "Half Bath         0\n",
       "Total Bsmt SF     0\n",
       "Garage Cars       0\n",
       "Garage Area       0\n",
       "Fireplaces        0\n",
       "TotRms AbvGrd     0\n",
       "Kitchen Qual      0\n",
       "dtype: int64"
      ]
     },
     "execution_count": 52,
     "metadata": {},
     "output_type": "execute_result"
    }
   ],
   "source": [
    "test_clean.isnull().sum()"
   ]
  },
  {
   "cell_type": "code",
   "execution_count": 54,
   "metadata": {},
   "outputs": [
    {
     "data": {
      "text/plain": [
       "Id                  int64\n",
       "Lot Area            int64\n",
       "Overall Qual        int64\n",
       "Year Built          int64\n",
       "Year Remod/Add      int64\n",
       "Mas Vnr Area      float64\n",
       "Exter Qual          int64\n",
       "Bsmt Qual           int64\n",
       "Gr Liv Area         int64\n",
       "Full Bath           int64\n",
       "Half Bath           int64\n",
       "Total Bsmt SF       int64\n",
       "Garage Cars         int64\n",
       "Garage Area         int64\n",
       "Fireplaces          int64\n",
       "TotRms AbvGrd       int64\n",
       "Kitchen Qual        int64\n",
       "dtype: object"
      ]
     },
     "execution_count": 54,
     "metadata": {},
     "output_type": "execute_result"
    }
   ],
   "source": [
    "#check to see if test data types are consistent with training data\n",
    "test_clean.dtypes "
   ]
  },
  {
   "cell_type": "code",
   "execution_count": 56,
   "metadata": {},
   "outputs": [],
   "source": [
    "#export to new file to use in testing my prediction model\n",
    "test_clean.to_csv('./datasets/test_final.csv')"
   ]
  },
  {
   "cell_type": "code",
   "execution_count": null,
   "metadata": {},
   "outputs": [],
   "source": []
  },
  {
   "cell_type": "code",
   "execution_count": null,
   "metadata": {},
   "outputs": [],
   "source": []
  }
 ],
 "metadata": {
  "kernelspec": {
   "display_name": "Python 3",
   "language": "python",
   "name": "python3"
  },
  "language_info": {
   "codemirror_mode": {
    "name": "ipython",
    "version": 3
   },
   "file_extension": ".py",
   "mimetype": "text/x-python",
   "name": "python",
   "nbconvert_exporter": "python",
   "pygments_lexer": "ipython3",
   "version": "3.6.8"
  }
 },
 "nbformat": 4,
 "nbformat_minor": 2
}
