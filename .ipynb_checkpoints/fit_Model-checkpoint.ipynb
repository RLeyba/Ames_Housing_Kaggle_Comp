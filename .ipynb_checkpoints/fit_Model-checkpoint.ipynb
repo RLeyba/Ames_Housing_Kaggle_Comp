{
 "cells": [
  {
   "cell_type": "code",
   "execution_count": 1,
   "metadata": {},
   "outputs": [],
   "source": [
    "import numpy as np\n",
    "import pandas as pd\n",
    "import scipy.stats as stats\n",
    "import matplotlib.pyplot as plt\n",
    "import seaborn as sns\n",
    "from sklearn.model_selection import train_test_split, cross_val_score\n",
    "from sklearn.preprocessing import StandardScaler, PolynomialFeatures\n",
    "from sklearn.linear_model import LinearRegression, Ridge, Lasso\n",
    "from sklearn.metrics import r2_score\n",
    "\n",
    "from bokeh.io import show, output_notebook\n",
    "from bokeh.layouts import column\n",
    "from bokeh.models import ColumnDataSource, RangeTool\n",
    "from bokeh.plotting import figure\n",
    "\n",
    "%matplotlib inline"
   ]
  },
  {
   "cell_type": "code",
   "execution_count": 2,
   "metadata": {},
   "outputs": [],
   "source": [
    "#read in training data and testing data\n",
    "data = pd.read_csv('./datasets/cleaned.csv', index_col = 'Unnamed: 0')\n",
    "test_final = pd.read_csv('./datasets/test_final.csv', index_col = 'Unnamed: 0')"
   ]
  },
  {
   "cell_type": "code",
   "execution_count": 3,
   "metadata": {
    "scrolled": true
   },
   "outputs": [
    {
     "data": {
      "text/html": [
       "<div>\n",
       "<style scoped>\n",
       "    .dataframe tbody tr th:only-of-type {\n",
       "        vertical-align: middle;\n",
       "    }\n",
       "\n",
       "    .dataframe tbody tr th {\n",
       "        vertical-align: top;\n",
       "    }\n",
       "\n",
       "    .dataframe thead th {\n",
       "        text-align: right;\n",
       "    }\n",
       "</style>\n",
       "<table border=\"1\" class=\"dataframe\">\n",
       "  <thead>\n",
       "    <tr style=\"text-align: right;\">\n",
       "      <th></th>\n",
       "      <th>Id</th>\n",
       "      <th>Lot Area</th>\n",
       "      <th>Overall Qual</th>\n",
       "      <th>Year Built</th>\n",
       "      <th>Year Remod/Add</th>\n",
       "      <th>Mas Vnr Area</th>\n",
       "      <th>Exter Qual</th>\n",
       "      <th>Bsmt Qual</th>\n",
       "      <th>Gr Liv Area</th>\n",
       "      <th>Full Bath</th>\n",
       "      <th>Half Bath</th>\n",
       "      <th>Total Bsmt SF</th>\n",
       "      <th>Garage Cars</th>\n",
       "      <th>Garage Area</th>\n",
       "      <th>Fireplaces</th>\n",
       "      <th>TotRms AbvGrd</th>\n",
       "      <th>Kitchen Qual</th>\n",
       "      <th>SalePrice</th>\n",
       "    </tr>\n",
       "  </thead>\n",
       "  <tbody>\n",
       "    <tr>\n",
       "      <th>0</th>\n",
       "      <td>109</td>\n",
       "      <td>13517</td>\n",
       "      <td>6</td>\n",
       "      <td>1976</td>\n",
       "      <td>2005</td>\n",
       "      <td>289.0</td>\n",
       "      <td>4</td>\n",
       "      <td>3</td>\n",
       "      <td>1479</td>\n",
       "      <td>2</td>\n",
       "      <td>1</td>\n",
       "      <td>725</td>\n",
       "      <td>2</td>\n",
       "      <td>475</td>\n",
       "      <td>0</td>\n",
       "      <td>6</td>\n",
       "      <td>4</td>\n",
       "      <td>130500</td>\n",
       "    </tr>\n",
       "    <tr>\n",
       "      <th>1</th>\n",
       "      <td>544</td>\n",
       "      <td>11492</td>\n",
       "      <td>7</td>\n",
       "      <td>1996</td>\n",
       "      <td>1997</td>\n",
       "      <td>132.0</td>\n",
       "      <td>4</td>\n",
       "      <td>4</td>\n",
       "      <td>2122</td>\n",
       "      <td>2</td>\n",
       "      <td>1</td>\n",
       "      <td>913</td>\n",
       "      <td>2</td>\n",
       "      <td>559</td>\n",
       "      <td>1</td>\n",
       "      <td>8</td>\n",
       "      <td>4</td>\n",
       "      <td>220000</td>\n",
       "    </tr>\n",
       "    <tr>\n",
       "      <th>2</th>\n",
       "      <td>153</td>\n",
       "      <td>7922</td>\n",
       "      <td>5</td>\n",
       "      <td>1953</td>\n",
       "      <td>2007</td>\n",
       "      <td>0.0</td>\n",
       "      <td>3</td>\n",
       "      <td>3</td>\n",
       "      <td>1057</td>\n",
       "      <td>1</td>\n",
       "      <td>0</td>\n",
       "      <td>1057</td>\n",
       "      <td>1</td>\n",
       "      <td>246</td>\n",
       "      <td>0</td>\n",
       "      <td>5</td>\n",
       "      <td>4</td>\n",
       "      <td>109000</td>\n",
       "    </tr>\n",
       "    <tr>\n",
       "      <th>3</th>\n",
       "      <td>318</td>\n",
       "      <td>9802</td>\n",
       "      <td>5</td>\n",
       "      <td>2006</td>\n",
       "      <td>2007</td>\n",
       "      <td>0.0</td>\n",
       "      <td>3</td>\n",
       "      <td>4</td>\n",
       "      <td>1444</td>\n",
       "      <td>2</td>\n",
       "      <td>1</td>\n",
       "      <td>384</td>\n",
       "      <td>2</td>\n",
       "      <td>400</td>\n",
       "      <td>0</td>\n",
       "      <td>7</td>\n",
       "      <td>3</td>\n",
       "      <td>174000</td>\n",
       "    </tr>\n",
       "    <tr>\n",
       "      <th>4</th>\n",
       "      <td>255</td>\n",
       "      <td>14235</td>\n",
       "      <td>6</td>\n",
       "      <td>1900</td>\n",
       "      <td>1993</td>\n",
       "      <td>0.0</td>\n",
       "      <td>3</td>\n",
       "      <td>2</td>\n",
       "      <td>1445</td>\n",
       "      <td>2</td>\n",
       "      <td>0</td>\n",
       "      <td>676</td>\n",
       "      <td>2</td>\n",
       "      <td>484</td>\n",
       "      <td>0</td>\n",
       "      <td>6</td>\n",
       "      <td>3</td>\n",
       "      <td>138500</td>\n",
       "    </tr>\n",
       "  </tbody>\n",
       "</table>\n",
       "</div>"
      ],
      "text/plain": [
       "    Id  Lot Area  Overall Qual  Year Built  Year Remod/Add  Mas Vnr Area  \\\n",
       "0  109     13517             6        1976            2005         289.0   \n",
       "1  544     11492             7        1996            1997         132.0   \n",
       "2  153      7922             5        1953            2007           0.0   \n",
       "3  318      9802             5        2006            2007           0.0   \n",
       "4  255     14235             6        1900            1993           0.0   \n",
       "\n",
       "   Exter Qual  Bsmt Qual  Gr Liv Area  Full Bath  Half Bath  Total Bsmt SF  \\\n",
       "0           4          3         1479          2          1            725   \n",
       "1           4          4         2122          2          1            913   \n",
       "2           3          3         1057          1          0           1057   \n",
       "3           3          4         1444          2          1            384   \n",
       "4           3          2         1445          2          0            676   \n",
       "\n",
       "   Garage Cars  Garage Area  Fireplaces  TotRms AbvGrd  Kitchen Qual  \\\n",
       "0            2          475           0              6             4   \n",
       "1            2          559           1              8             4   \n",
       "2            1          246           0              5             4   \n",
       "3            2          400           0              7             3   \n",
       "4            2          484           0              6             3   \n",
       "\n",
       "   SalePrice  \n",
       "0     130500  \n",
       "1     220000  \n",
       "2     109000  \n",
       "3     174000  \n",
       "4     138500  "
      ]
     },
     "execution_count": 3,
     "metadata": {},
     "output_type": "execute_result"
    }
   ],
   "source": [
    "data.head()"
   ]
  },
  {
   "cell_type": "code",
   "execution_count": 4,
   "metadata": {},
   "outputs": [
    {
     "data": {
      "text/plain": [
       "Id                  int64\n",
       "Lot Area            int64\n",
       "Overall Qual        int64\n",
       "Year Built          int64\n",
       "Year Remod/Add      int64\n",
       "Mas Vnr Area      float64\n",
       "Exter Qual          int64\n",
       "Bsmt Qual           int64\n",
       "Gr Liv Area         int64\n",
       "Full Bath           int64\n",
       "Half Bath           int64\n",
       "Total Bsmt SF       int64\n",
       "Garage Cars         int64\n",
       "Garage Area         int64\n",
       "Fireplaces          int64\n",
       "TotRms AbvGrd       int64\n",
       "Kitchen Qual        int64\n",
       "SalePrice           int64\n",
       "dtype: object"
      ]
     },
     "execution_count": 4,
     "metadata": {},
     "output_type": "execute_result"
    }
   ],
   "source": [
    "data.dtypes"
   ]
  },
  {
   "cell_type": "code",
   "execution_count": 5,
   "metadata": {},
   "outputs": [
    {
     "data": {
      "text/plain": [
       "Id                  int64\n",
       "Lot Area            int64\n",
       "Overall Qual        int64\n",
       "Year Built          int64\n",
       "Year Remod/Add      int64\n",
       "Mas Vnr Area      float64\n",
       "Exter Qual          int64\n",
       "Bsmt Qual           int64\n",
       "Gr Liv Area         int64\n",
       "Full Bath           int64\n",
       "Half Bath           int64\n",
       "Total Bsmt SF       int64\n",
       "Garage Cars         int64\n",
       "Garage Area         int64\n",
       "Fireplaces          int64\n",
       "TotRms AbvGrd       int64\n",
       "Kitchen Qual        int64\n",
       "dtype: object"
      ]
     },
     "execution_count": 5,
     "metadata": {},
     "output_type": "execute_result"
    }
   ],
   "source": [
    "test_final.dtypes"
   ]
  },
  {
   "cell_type": "code",
   "execution_count": 6,
   "metadata": {
    "scrolled": false
   },
   "outputs": [
    {
     "name": "stdout",
     "output_type": "stream",
     "text": [
      "Id\n",
      "Lot Area\n",
      "Overall Qual\n",
      "Year Built\n",
      "Year Remod/Add\n",
      "Mas Vnr Area\n",
      "Exter Qual\n",
      "Bsmt Qual\n",
      "Gr Liv Area\n",
      "Full Bath\n",
      "Half Bath\n",
      "Total Bsmt SF\n",
      "Garage Cars\n",
      "Garage Area\n",
      "Fireplaces\n",
      "TotRms AbvGrd\n",
      "Kitchen Qual\n"
     ]
    }
   ],
   "source": [
    "#list column names\n",
    "for columns in test_final:\n",
    "    print(columns)"
   ]
  },
  {
   "cell_type": "code",
   "execution_count": 7,
   "metadata": {},
   "outputs": [
    {
     "name": "stdout",
     "output_type": "stream",
     "text": [
      "Id\n",
      "Lot Area\n",
      "Overall Qual\n",
      "Year Built\n",
      "Year Remod/Add\n",
      "Mas Vnr Area\n",
      "Exter Qual\n",
      "Bsmt Qual\n",
      "Gr Liv Area\n",
      "Full Bath\n",
      "Half Bath\n",
      "Total Bsmt SF\n",
      "Garage Cars\n",
      "Garage Area\n",
      "Fireplaces\n",
      "TotRms AbvGrd\n",
      "Kitchen Qual\n",
      "SalePrice\n"
     ]
    }
   ],
   "source": [
    "for columns in data:\n",
    "    print(columns)"
   ]
  },
  {
   "cell_type": "code",
   "execution_count": 8,
   "metadata": {},
   "outputs": [
    {
     "name": "stdout",
     "output_type": "stream",
     "text": [
      "(2051, 18) (879, 17)\n"
     ]
    }
   ],
   "source": [
    "print(data.shape, test_final.shape)"
   ]
  },
  {
   "cell_type": "code",
   "execution_count": 9,
   "metadata": {
    "scrolled": true
   },
   "outputs": [
    {
     "data": {
      "text/plain": [
       "<matplotlib.axes._subplots.AxesSubplot at 0x11b7752e8>"
      ]
     },
     "execution_count": 9,
     "metadata": {},
     "output_type": "execute_result"
    },
    {
     "data": {
      "image/png": "[encoded data removed]",
      "text/plain": [
       "<Figure size 432x288 with 2 Axes>"
      ]
     },
     "metadata": {
      "needs_background": "light"
     },
     "output_type": "display_data"
    }
   ],
   "source": [
    "sns.heatmap(data.corr(), cmap = 'coolwarm')"
   ]
  },
  {
   "cell_type": "code",
   "execution_count": 10,
   "metadata": {
    "scrolled": true
   },
   "outputs": [
    {
     "data": {
      "text/plain": [
       "Id               -0.051398\n",
       "Lot Area          0.296566\n",
       "Overall Qual      0.800207\n",
       "Year Built        0.571849\n",
       "Year Remod/Add    0.550370\n",
       "Mas Vnr Area      0.503579\n",
       "Exter Qual        0.712146\n",
       "Bsmt Qual         0.612188\n",
       "Gr Liv Area       0.697038\n",
       "Full Bath         0.537969\n",
       "Half Bath         0.283001\n",
       "Total Bsmt SF     0.629303\n",
       "Garage Cars       0.647781\n",
       "Garage Area       0.649897\n",
       "Fireplaces        0.471093\n",
       "TotRms AbvGrd     0.504014\n",
       "Kitchen Qual      0.692336\n",
       "SalePrice         1.000000\n",
       "Name: SalePrice, dtype: float64"
      ]
     },
     "execution_count": 10,
     "metadata": {},
     "output_type": "execute_result"
    }
   ],
   "source": [
    "data.corr()['SalePrice']\n"
   ]
  },
  {
   "cell_type": "code",
   "execution_count": 11,
   "metadata": {},
   "outputs": [
    {
     "data": {
      "text/plain": [
       "<matplotlib.axes._subplots.AxesSubplot at 0x1a225a9ac8>"
      ]
     },
     "execution_count": 11,
     "metadata": {},
     "output_type": "execute_result"
    },
    {
     "data": {
      "image/png": "[encoded data removed]",
      "text/plain": [
       "<Figure size 864x864 with 2 Axes>"
      ]
     },
     "metadata": {
      "needs_background": "light"
     },
     "output_type": "display_data"
    }
   ],
   "source": [
    "# check correlation of each numeric variables with saleprice\n",
    "plt.figure(figsize = (12, 12))\n",
    "data.corr()\n",
    "# data[np.abs(data)<.4] = 0\n",
    "sns.heatmap(data.corr()[['SalePrice']].sort_values('SalePrice', ascending=False), \n",
    "            cmap = 'coolwarm', \n",
    "            annot = True) "
   ]
  },
  {
   "cell_type": "code",
   "execution_count": 12,
   "metadata": {},
   "outputs": [],
   "source": [
    "#set target data\n",
    "y = data['SalePrice']\n"
   ]
  },
  {
   "cell_type": "code",
   "execution_count": 13,
   "metadata": {},
   "outputs": [],
   "source": [
    "#set training data\n",
    "X = data[['Lot Area',\n",
    "          'Overall Qual',\n",
    "          'Year Built',\n",
    "          'Year Remod/Add',\n",
    "          'Mas Vnr Area',\n",
    "          'Exter Qual',\n",
    "          'Bsmt Qual', \n",
    "          'Gr Liv Area',\n",
    "#           'Full Bath',\n",
    "          'Half Bath',\n",
    "          'Total Bsmt SF',\n",
    "          'Garage Cars',\n",
    "          'Garage Area',\n",
    "          'Fireplaces',\n",
    "          'TotRms AbvGrd',\n",
    "          'Kitchen Qual'\n",
    "         ]] \n"
   ]
  },
  {
   "cell_type": "code",
   "execution_count": 14,
   "metadata": {},
   "outputs": [
    {
     "name": "stdout",
     "output_type": "stream",
     "text": [
      "target shape:  (2051,)\n",
      "features shape:  (2051, 16)\n"
     ]
    }
   ],
   "source": [
    "print('target shape: ', y.shape)\n",
    "print('features shape: ', X.shape)"
   ]
  },
  {
   "cell_type": "code",
   "execution_count": 15,
   "metadata": {},
   "outputs": [
    {
     "name": "stderr",
     "output_type": "stream",
     "text": [
      "/anaconda3/lib/python3.6/site-packages/sklearn/preprocessing/data.py:645: DataConversionWarning: Data with input dtype int64, float64 were all converted to float64 by StandardScaler.\n",
      "  return self.partial_fit(X, y)\n",
      "/anaconda3/lib/python3.6/site-packages/sklearn/base.py:464: DataConversionWarning: Data with input dtype int64, float64 were all converted to float64 by StandardScaler.\n",
      "  return self.fit(X, **fit_params).transform(X)\n"
     ]
    },
    {
     "data": {
      "text/plain": [
       "array([[ 0.51207108, -0.0786441 ,  0.14222744, ..., -0.92570127,\n",
       "        -0.27944127,  0.72539913],\n",
       "       [ 0.21166364,  0.62265614,  0.80512594, ...,  0.64081136,\n",
       "         1.00273779,  0.72539913],\n",
       "       [-0.31794355, -0.77994434, -0.62010583, ..., -0.92570127,\n",
       "        -0.92053079,  0.72539913],\n",
       "       ...,\n",
       "       [-0.37194271, -0.0786441 , -1.44872896, ...,  0.64081136,\n",
       "         1.64382731, -0.7774227 ],\n",
       "       [ 0.04966615, -1.48124458, -0.52067106, ...,  2.20732399,\n",
       "        -0.27944127, -0.7774227 ],\n",
       "       [-0.38054698,  0.62265614,  0.90456072, ...,  0.64081136,\n",
       "         0.36164826,  0.72539913]])"
      ]
     },
     "execution_count": 15,
     "metadata": {},
     "output_type": "execute_result"
    }
   ],
   "source": [
    "# Instantiate Standard Scaler.\n",
    "ss = StandardScaler()\n",
    "\n",
    "# Fit AND transform Standard Scaler to overfit data in one step.\n",
    "ss.fit_transform(X)"
   ]
  },
  {
   "cell_type": "code",
   "execution_count": 16,
   "metadata": {},
   "outputs": [],
   "source": [
    "#test train split the training data\n",
    "X_train, X_test, y_train, y_test = train_test_split(X, y, random_state = 42)"
   ]
  },
  {
   "cell_type": "code",
   "execution_count": 17,
   "metadata": {},
   "outputs": [
    {
     "data": {
      "text/plain": [
       "LinearRegression(copy_X=True, fit_intercept=True, n_jobs=None,\n",
       "         normalize=False)"
      ]
     },
     "execution_count": 17,
     "metadata": {},
     "output_type": "execute_result"
    }
   ],
   "source": [
    "lr= LinearRegression()\n",
    "lr.fit(X_train, y_train)"
   ]
  },
  {
   "cell_type": "code",
   "execution_count": 18,
   "metadata": {},
   "outputs": [
    {
     "data": {
      "text/plain": [
       "0.8089736217633035"
      ]
     },
     "execution_count": 18,
     "metadata": {},
     "output_type": "execute_result"
    }
   ],
   "source": [
    "lr.score(X_train, y_train)"
   ]
  },
  {
   "cell_type": "code",
   "execution_count": 19,
   "metadata": {},
   "outputs": [
    {
     "data": {
      "text/plain": [
       "0.7822039305049245"
      ]
     },
     "execution_count": 19,
     "metadata": {},
     "output_type": "execute_result"
    }
   ],
   "source": [
    "cross_val_score(lr, X_train, y_train, cv = 5).mean()"
   ]
  },
  {
   "cell_type": "code",
   "execution_count": 20,
   "metadata": {
    "scrolled": true
   },
   "outputs": [
    {
     "data": {
      "text/plain": [
       "array([ 1.26621339e+00,  1.28560108e+04,  1.39416826e+02,  1.28429386e+02,\n",
       "        3.90686280e+01,  1.69578627e+04,  6.20131224e+03,  2.96419486e+01,\n",
       "       -1.64617507e+03, -3.90066022e+03,  1.11508997e+01,  5.73843965e+03,\n",
       "        1.78645376e+01,  1.04148432e+04,  2.72153621e+03,  1.40227671e+04])"
      ]
     },
     "execution_count": 20,
     "metadata": {},
     "output_type": "execute_result"
    }
   ],
   "source": [
    "lr.coef_"
   ]
  },
  {
   "cell_type": "code",
   "execution_count": 21,
   "metadata": {
    "scrolled": true
   },
   "outputs": [
    {
     "name": "stderr",
     "output_type": "stream",
     "text": [
      "/anaconda3/lib/python3.6/site-packages/ipykernel_launcher.py:1: RuntimeWarning: invalid value encountered in log\n",
      "  \"\"\"Entry point for launching an IPython kernel.\n"
     ]
    },
    {
     "data": {
      "text/plain": [
       "array([0.23603087, 9.46156675, 4.9374682 , 4.85537923, 3.66531979,\n",
       "       9.73848688, 8.7325162 , 3.38919054,        nan,        nan,\n",
       "       2.41152018, 8.65494261, 2.88281761, 9.2509873 , 7.90895178,\n",
       "       9.54843751])"
      ]
     },
     "execution_count": 21,
     "metadata": {},
     "output_type": "execute_result"
    }
   ],
   "source": [
    "np.log(lr.coef_)"
   ]
  },
  {
   "cell_type": "code",
   "execution_count": 22,
   "metadata": {},
   "outputs": [],
   "source": [
    "#predict y values from X\n",
    "y_pred = lr.predict(X)"
   ]
  },
  {
   "cell_type": "code",
   "execution_count": 23,
   "metadata": {},
   "outputs": [
    {
     "data": {
      "text/plain": [
       "array([195599.31886708, 246234.36555057, 128649.49636405, ...,\n",
       "       164647.91899171, 129018.84484585, 200203.91314993])"
      ]
     },
     "execution_count": 23,
     "metadata": {},
     "output_type": "execute_result"
    }
   ],
   "source": [
    "y_pred\n"
   ]
  },
  {
   "cell_type": "code",
   "execution_count": null,
   "metadata": {},
   "outputs": [],
   "source": [
    "\n",
    "\n",
    "from sklearn.metrics import *\n",
    "\n",
    "def metrics_gen(y, y_pred):\n",
    "    print('r2 score: ', r2_score(y, y_pred))\n",
    "    print('mse:', mean_squared_error(y, y_pred))\n",
    "    print(explained_variance_score(y, y_pred))\n",
    "    "
   ]
  },
  {
   "cell_type": "code",
   "execution_count": null,
   "metadata": {},
   "outputs": [],
   "source": [
    " metrics_gen(y, y_pred)"
   ]
  },
  {
   "cell_type": "code",
   "execution_count": null,
   "metadata": {},
   "outputs": [],
   "source": []
  },
  {
   "cell_type": "code",
   "execution_count": null,
   "metadata": {},
   "outputs": [],
   "source": []
  },
  {
   "cell_type": "code",
   "execution_count": null,
   "metadata": {},
   "outputs": [],
   "source": []
  },
  {
   "cell_type": "code",
   "execution_count": null,
   "metadata": {},
   "outputs": [],
   "source": [
    "r2_score(y, y_pred)\n",
    "#83.0% of the variability in our \n",
    "#(wine quality) is explained by our model\n",
    "#relative to a baseline model with no predictors."
   ]
  },
  {
   "cell_type": "code",
   "execution_count": null,
   "metadata": {},
   "outputs": [],
   "source": [
    "\n",
    "# Instantiate.\n",
    "ridge_model = Ridge(alpha=10)\n",
    "\n",
    "# Fit.\n",
    "ridge_model.fit(X_train, y_train)\n",
    "\n",
    "# Generate predictions.\n",
    "ridge_preds = ridge_model.predict(X_test)\n",
    "ridge_preds_train = ridge_model.predict(X_train)\n",
    "\n",
    "# Evaluate model using R2.\n",
    "print(r2_score(y_train, ridge_preds_train))\n",
    "print(r2_score(y_test, ridge_preds))"
   ]
  },
  {
   "cell_type": "code",
   "execution_count": null,
   "metadata": {},
   "outputs": [],
   "source": [
    "from sklearn.linear_model import RidgeCV"
   ]
  },
  {
   "cell_type": "code",
   "execution_count": null,
   "metadata": {},
   "outputs": [],
   "source": [
    "# Set up a list of ridge alphas to check.\n",
    "r_alphas = np.logspace(0, 5, 100)\n",
    "# Generates 100 values equally between 0 and 5,\n",
    "# then converts them to alphas between 10^0 and 10^5.\n",
    "\n",
    "# Cross-validate over our list of ridge alphas.\n",
    "ridge_model = RidgeCV(alphas=r_alphas, scoring='r2', cv=5)\n",
    "\n",
    "# Fit model using best ridge alpha!\n",
    "ridge_model.fit(X_train, y_train)"
   ]
  },
  {
   "cell_type": "code",
   "execution_count": null,
   "metadata": {},
   "outputs": [],
   "source": [
    "ridge_model.alpha_"
   ]
  },
  {
   "cell_type": "code",
   "execution_count": null,
   "metadata": {},
   "outputs": [],
   "source": [
    "y_pred_train_ridge = ridge_model.predict(X_train)\n",
    "y_pred_test_ridge = ridge_model.predict(X_test)\n",
    "\n",
    "print(r2_score(y_train, y_pred_train_ridge))\n",
    "print(r2_score(y_test, y_pred_test_ridge))"
   ]
  },
  {
   "cell_type": "code",
   "execution_count": null,
   "metadata": {},
   "outputs": [],
   "source": []
  },
  {
   "cell_type": "code",
   "execution_count": null,
   "metadata": {},
   "outputs": [],
   "source": []
  },
  {
   "cell_type": "code",
   "execution_count": null,
   "metadata": {},
   "outputs": [],
   "source": [
    "from sklearn.linear_model import LassoCV"
   ]
  },
  {
   "cell_type": "code",
   "execution_count": null,
   "metadata": {},
   "outputs": [],
   "source": [
    "# Set up a list of Lasso alphas to check.\n",
    "l_alphas = np.logspace(-3, 0, 100)\n",
    "\n",
    "# Cross-validate over our list of Lasso alphas.\n",
    "lasso_model = LassoCV(alphas=l_alphas, cv=5)\n",
    "\n",
    "# Fit model using best ridge alpha!\n",
    "lasso_model = lasso_model.fit(X_train, y_train)"
   ]
  },
  {
   "cell_type": "code",
   "execution_count": null,
   "metadata": {},
   "outputs": [],
   "source": [
    "# Here is the optimal value of alpha\n",
    "lasso_model.alpha_"
   ]
  },
  {
   "cell_type": "code",
   "execution_count": null,
   "metadata": {},
   "outputs": [],
   "source": [
    "# Generate predictions\n",
    "y_pred_train_lasso = lasso_model.predict(X_train)\n",
    "y_pred_test_lasso = lasso_model.predict(X_test)\n",
    "\n",
    "# Evaluate model.\n",
    "print(r2_score(y_train, y_pred_train_lasso))\n",
    "print(r2_score(y_test, y_pred_test_lasso))"
   ]
  },
  {
   "cell_type": "code",
   "execution_count": null,
   "metadata": {},
   "outputs": [],
   "source": [
    "data.mean()"
   ]
  },
  {
   "cell_type": "code",
   "execution_count": 24,
   "metadata": {},
   "outputs": [],
   "source": [
    "#scale test\n",
    "pre_test_scale = test_final[['Lot Area',\n",
    "          'Overall Qual',\n",
    "          'Year Built',\n",
    "          'Year Remod/Add',\n",
    "          'Mas Vnr Area',\n",
    "          'Exter Qual',\n",
    "          'Bsmt Qual', \n",
    "          'Gr Liv Area',\n",
    "          'Full Bath',\n",
    "          'Half Bath',\n",
    "          'Total Bsmt SF',\n",
    "          'Garage Cars',\n",
    "          'Garage Area',\n",
    "          'Fireplaces',\n",
    "          'TotRms AbvGrd',\n",
    "          'Kitchen Qual'\n",
    "         ]] "
   ]
  },
  {
   "cell_type": "code",
   "execution_count": 26,
   "metadata": {},
   "outputs": [
    {
     "name": "stderr",
     "output_type": "stream",
     "text": [
      "/anaconda3/lib/python3.6/site-packages/sklearn/preprocessing/data.py:645: DataConversionWarning: Data with input dtype int64, float64 were all converted to float64 by StandardScaler.\n",
      "  return self.partial_fit(X, y)\n",
      "/anaconda3/lib/python3.6/site-packages/sklearn/base.py:464: DataConversionWarning: Data with input dtype int64, float64 were all converted to float64 by StandardScaler.\n",
      "  return self.fit(X, **fit_params).transform(X)\n"
     ]
    }
   ],
   "source": [
    "test_scale = ss.fit_transform(pre_test_scale)"
   ]
  },
  {
   "cell_type": "code",
   "execution_count": 27,
   "metadata": {},
   "outputs": [],
   "source": [
    "lr_test_predictions = lr.predict(test_scale)"
   ]
  },
  {
   "cell_type": "code",
   "execution_count": 32,
   "metadata": {},
   "outputs": [
    {
     "data": {
      "text/plain": [
       "array([ 1.26621339e+00,  1.28560108e+04,  1.39416826e+02,  1.28429386e+02,\n",
       "        3.90686280e+01,  1.69578627e+04,  6.20131224e+03,  2.96419486e+01,\n",
       "       -1.64617507e+03, -3.90066022e+03,  1.11508997e+01,  5.73843965e+03,\n",
       "        1.78645376e+01,  1.04148432e+04,  2.72153621e+03,  1.40227671e+04])"
      ]
     },
     "execution_count": 32,
     "metadata": {},
     "output_type": "execute_result"
    }
   ],
   "source": [
    "lr.coef_"
   ]
  },
  {
   "cell_type": "code",
   "execution_count": 28,
   "metadata": {},
   "outputs": [
    {
     "data": {
      "text/plain": [
       "array([-730109.78275482, -694643.0569909 , -621402.26703655,\n",
       "       -676982.51334476, -665872.7755523 , -731896.09418301,\n",
       "       -724022.87705064, -694232.47645388, -643760.6602952 ,\n",
       "       -667826.22508184, -642173.70480321, -697902.49311579,\n",
       "       -682399.39980308, -647082.98355695, -683127.83178262,\n",
       "       -716142.63475223, -664737.71072114, -714982.25889361,\n",
       "       -667756.90691445, -614899.01785491, -676049.06227535,\n",
       "       -707268.92910581, -626538.88484514, -668390.51197273,\n",
       "       -635712.19515147, -714825.16769321, -708122.35451157,\n",
       "       -674142.4112998 , -674833.07296201, -764532.12326393,\n",
       "       -725864.14973216, -716859.01304673, -608774.41176189,\n",
       "       -670960.43061502, -615368.8083784 , -661134.36765684,\n",
       "       -723303.98305851, -767442.21375701, -655604.93011321,\n",
       "       -632700.47066777, -651385.85697003, -616357.56704364,\n",
       "       -682266.01511455, -651675.23979829, -601622.79552252,\n",
       "       -722064.44685835, -623077.13961764, -713202.04570396,\n",
       "       -716419.15428974, -722624.39840435, -713449.94717045,\n",
       "       -636974.79360804, -596577.74871751, -699493.78141284,\n",
       "       -713390.19722503, -676275.41723297, -694255.94621284,\n",
       "       -697509.13611213, -675761.75247635, -613759.78340473,\n",
       "       -599963.85681198, -705827.35460707, -681795.66855041,\n",
       "       -685923.34884758, -646468.02713229, -581011.55848824,\n",
       "       -731866.53322172, -631165.0491435 , -718167.43572624,\n",
       "       -626930.02824597, -723660.48589261, -571040.8179087 ,\n",
       "       -657093.14832122, -621554.63462078, -713983.54086211,\n",
       "       -679595.45394172, -523024.68525652, -705059.18730136,\n",
       "       -711393.20572809, -735438.58523669, -528789.05537664,\n",
       "       -615384.41694515, -705652.68025425, -683898.69397974,\n",
       "       -711026.72188631, -674893.76708362, -544122.76106245,\n",
       "       -707169.27988386, -678232.69478563, -635168.22095264,\n",
       "       -696042.74992619, -691651.62910207, -737096.72734569,\n",
       "       -718257.41416024, -607917.45658396, -716042.06714972,\n",
       "       -691118.36547271, -676344.61023895, -605966.62392017,\n",
       "       -646352.0344583 , -629346.53099998, -556175.48448792,\n",
       "       -667938.73031556, -714692.14931493, -508597.69161573,\n",
       "       -680475.39804921, -702834.45232869, -662760.25747739,\n",
       "       -677753.28801898, -695644.04909005, -759843.95729997,\n",
       "       -681618.32829543, -612059.59796137, -730202.9800078 ,\n",
       "       -713590.62980542, -617144.8620621 , -576350.20284768,\n",
       "       -661414.60986961, -716064.77351572, -527120.57370942,\n",
       "       -667831.27806132, -521049.52775973, -581139.56272121,\n",
       "       -588076.89522751, -691938.7892011 , -685827.94605217,\n",
       "       -563316.45388037, -714830.23661935, -691662.62189383,\n",
       "       -697626.40949642, -587218.78499835, -685952.86143706,\n",
       "       -666783.02854561, -680360.92213882, -668302.67315729,\n",
       "       -699578.62182099, -630479.81029285, -632619.71145927,\n",
       "       -635746.81619238, -631165.04939569, -709599.97092409,\n",
       "       -668354.61459809, -693431.90260808, -702208.55193019,\n",
       "       -663435.52250626, -745550.40893131, -701697.77817927,\n",
       "       -695989.20758237, -704559.31581355, -760439.39366142,\n",
       "       -634254.63405558, -636964.06657095, -690297.61075234,\n",
       "       -709799.63262604, -697614.72139339, -663322.63333785,\n",
       "       -713267.99905956, -739585.59595207, -685728.54231366,\n",
       "       -605325.95990887, -611917.48028174, -653255.81148144,\n",
       "       -713093.40982789, -712993.11073582, -509823.15711842,\n",
       "       -538182.03729092, -628415.25823176, -667592.37147852,\n",
       "       -630962.74757864, -619644.23541599, -630948.24046772,\n",
       "       -539668.78342353, -700099.39880954, -692859.16411301,\n",
       "       -642092.88694107, -621497.95070354, -665166.35482875,\n",
       "       -681072.84103124, -701438.8305573 , -730219.1664427 ,\n",
       "       -720939.99408706, -703810.99769019, -676650.66585023,\n",
       "       -609355.83276393, -635270.78395682, -674877.27756614,\n",
       "       -704050.61701023, -619736.41270489, -654958.63031731,\n",
       "       -707276.01647793, -769594.32396593, -671532.67988886,\n",
       "       -692431.91405828, -726883.59145793, -708114.34114736,\n",
       "       -629059.60559413, -675361.5358548 , -602554.70765247,\n",
       "       -685185.08806722, -713066.58563126, -698812.47588749,\n",
       "       -597522.77037294, -684599.44911716, -707249.63886328,\n",
       "       -646422.10463458, -680785.31096736, -738928.64716418,\n",
       "       -684304.8473388 , -679400.93313935, -605979.29739134,\n",
       "       -619640.31709262, -682333.21736568, -636130.43831677,\n",
       "       -708845.73507409, -648289.75470594, -577023.99668339,\n",
       "       -637099.55008995, -648746.2263496 , -670965.78248254,\n",
       "       -704067.43630046, -691647.5745541 , -638697.63347961,\n",
       "       -696464.89871126, -684821.2580919 , -632466.98659376,\n",
       "       -684240.16183073, -687907.93589269, -608604.59822863,\n",
       "       -629280.08040336, -714924.1144228 , -613566.89207322,\n",
       "       -712563.13985956, -728457.83229814, -686489.60353918,\n",
       "       -710503.77398458, -609810.2615216 , -684096.89234253,\n",
       "       -715192.30565138, -503114.76465195, -571489.22057295,\n",
       "       -610253.61031776, -610289.69052404, -693769.04476082,\n",
       "       -577843.87465874, -611144.13522617, -523776.02768524,\n",
       "       -596543.18198361, -712442.59482535, -701093.06176836,\n",
       "       -682317.86572854, -538180.04789179, -607589.60470391,\n",
       "       -672567.21457128, -610421.27400301, -619673.90309971,\n",
       "       -655104.67149564, -701975.12489033, -728533.01185402,\n",
       "       -515737.02310638, -619802.25115913, -667753.56059897,\n",
       "       -619742.45847997, -709968.28396319, -709706.36305501,\n",
       "       -666815.86141045, -611153.56140159, -700378.06454813,\n",
       "       -714955.16714116, -621497.92465437, -703819.22463908,\n",
       "       -690609.85503801, -678414.16302006, -638647.97634004,\n",
       "       -676878.54467335, -622068.11467028, -716541.17757826,\n",
       "       -708014.65176859, -642505.47550464, -671042.96902913,\n",
       "       -724475.37212437, -715009.09517556, -602659.50726546,\n",
       "       -726660.95862822, -715460.82641419, -714969.22089297,\n",
       "       -680812.91752333, -621498.87161883, -679527.09823506,\n",
       "       -713096.42564929, -704985.63158023, -713256.15525069,\n",
       "       -714940.07772342, -712621.54818426, -730153.9439307 ,\n",
       "       -732016.70842677, -697543.92913372, -626930.02824597,\n",
       "       -638547.06130785, -621395.19605207, -597487.45070004,\n",
       "       -679159.66448371, -688942.12555589, -538170.21703588,\n",
       "       -705375.81722181, -706999.16633845, -723648.47761868,\n",
       "       -722627.63506018, -675553.5050651 , -615364.68369246,\n",
       "       -709166.43887794, -722603.3002422 , -657425.71602059,\n",
       "       -621634.6151379 , -599157.34061144, -600893.35705439,\n",
       "       -749655.34610183, -562057.73410948, -534800.10096473,\n",
       "       -604045.57723618, -619663.68253332, -678111.71064573,\n",
       "       -755971.31065463, -711864.79840557, -679469.80813899,\n",
       "       -612103.49435916, -705459.40477414, -693887.4872706 ,\n",
       "       -714655.25685768, -630967.36019979, -646087.20275963,\n",
       "       -703634.58467585, -704941.29995173, -676625.85003656,\n",
       "       -701688.39060399, -596967.21735526, -714150.2855853 ,\n",
       "       -688611.45152739, -691828.6680063 , -708140.26719805,\n",
       "       -690095.09423489, -608509.08085773, -660476.19987712,\n",
       "       -728005.50160628, -667592.85328434, -676560.04395114,\n",
       "       -604425.52232156, -612069.25913823, -682371.79832766,\n",
       "       -714882.38342644, -619719.24014586, -689872.33233669,\n",
       "       -707684.12673378, -688035.33803633, -709718.09050362,\n",
       "       -595690.42304897, -707134.74816451, -614620.68252052,\n",
       "       -663787.39810991, -630997.79862262, -604399.46050779,\n",
       "       -743372.33060849, -695914.35738309, -722494.66897485,\n",
       "       -757081.5375165 , -695694.98590274, -613071.76122464,\n",
       "       -607584.43959866, -676045.46253289, -662768.64518103,\n",
       "       -633566.30543038, -731696.97998429, -696431.24906756,\n",
       "       -713097.01504208, -677473.35313662, -563251.31919716,\n",
       "       -703842.67454563, -589778.48066887, -633394.63913256,\n",
       "       -600857.82844438, -615314.40928443, -659252.20415023,\n",
       "       -696686.61450619, -712016.12509019, -528828.48655428,\n",
       "       -569319.09509717, -619792.63309402, -676682.28388529,\n",
       "       -686292.33388278, -626052.25446798, -713169.73522426,\n",
       "       -705357.17417262, -720747.07045891, -545882.78511691,\n",
       "       -682526.56263111, -709040.37376575, -653446.61733307,\n",
       "       -716718.23013738, -624730.6558958 , -680680.2925396 ,\n",
       "       -700239.25621544, -746971.97839071, -639609.97799627,\n",
       "       -615585.07987481, -703933.14858346, -589741.69647426,\n",
       "       -714447.86097757, -713225.86619978, -691519.25733206,\n",
       "       -621347.11960798, -588905.61678186, -709060.00088891,\n",
       "       -719807.24474314, -713254.97178264, -648282.89991343,\n",
       "       -726934.39892205, -610310.02299381, -602481.75279796,\n",
       "       -699025.39562453, -686870.64955001, -718228.53877067,\n",
       "       -689258.72482148, -642476.67834537, -721011.25319402,\n",
       "       -684748.81632816, -711633.39447677, -607700.83819183,\n",
       "       -523749.47559794, -591191.91003784, -635238.08470711,\n",
       "       -697763.57500515, -587273.05976721, -718490.05357314,\n",
       "       -703936.62314428, -687436.04578046, -621413.48997068,\n",
       "       -702989.05784352, -596952.1018377 , -615359.09971692,\n",
       "       -689399.57904796, -642123.10550866, -673435.74487882,\n",
       "       -637025.1603842 , -702179.06049962, -712217.13960395,\n",
       "       -651163.46005658, -675289.48795597, -640780.17106781,\n",
       "       -772620.7145581 , -704921.29593177, -611934.37358702,\n",
       "       -664317.61374542, -646127.99678564, -596550.4332605 ,\n",
       "       -615308.61225521, -655431.79913972, -638654.17156434,\n",
       "       -612051.84634885, -613716.05601302, -734615.40389831,\n",
       "       -610462.37635642, -737730.80398185, -661634.34725917,\n",
       "       -713052.53722842, -688248.24069673, -509256.41635859,\n",
       "       -716647.11682896, -619687.37977473, -621503.68575291,\n",
       "       -619645.42175765, -700238.43442637, -714727.73089085,\n",
       "       -678898.62891506, -621501.69728587, -661073.62765855,\n",
       "       -714855.15606865, -612105.97107456, -606040.90015067,\n",
       "       -738066.70114394, -714360.31572667, -715187.96732277,\n",
       "       -624745.81714918, -744819.1958504 , -649864.46058605,\n",
       "       -676453.67124766, -638776.40850979, -643184.58880925,\n",
       "       -689949.32733355, -625226.7909306 , -655131.9704256 ,\n",
       "       -631130.12316975, -696438.23642833, -707884.15989558,\n",
       "       -632613.99820383, -711033.3455915 , -657616.70217521,\n",
       "       -509423.2197038 , -615396.05315483, -751350.13448567,\n",
       "       -699297.68169206, -698771.60433151, -720809.10614016,\n",
       "       -629073.21646358, -643819.01850064, -632687.87987084,\n",
       "       -642149.52518972, -622989.72498783, -682683.86345338,\n",
       "       -591718.80045722, -713333.18745828, -700091.49679279,\n",
       "       -602615.69963909, -737129.58804401, -674507.45743729,\n",
       "       -711496.17575231, -676792.04437062, -746593.39807762,\n",
       "       -672692.45960236, -682063.17322723, -630827.60624465,\n",
       "       -566694.03736684, -608673.37775506, -714868.64009633,\n",
       "       -715138.27497734, -714781.05895635, -716104.61798201,\n",
       "       -607713.04112874, -534748.88224222, -606788.09882403,\n",
       "       -740837.28883347, -691847.10030849, -768251.00623891,\n",
       "       -696071.63962671, -624799.49996712, -698974.50426466,\n",
       "       -630883.64321361, -683405.5977769 , -674833.71440685,\n",
       "       -739585.64311218, -641385.51329801, -698381.15323973,\n",
       "       -626483.69576839, -696097.92928888, -724209.48660119,\n",
       "       -720811.81304438, -692058.03620988, -621472.77993425,\n",
       "       -592326.39944223, -649922.25646681, -695407.55176732,\n",
       "       -697559.00954044, -605300.55629012, -684474.29434242,\n",
       "       -608417.40816825, -733593.41426152, -714392.82119195,\n",
       "       -609521.80143829, -707266.86494871, -687403.02405647,\n",
       "       -682603.92429594, -703302.01123971, -685094.87674777,\n",
       "       -714834.53502849, -640362.50291753, -640429.36372424,\n",
       "       -713110.11052048, -695566.0800185 , -707943.22970358,\n",
       "       -699993.05080705, -632326.5100932 , -678372.29667341,\n",
       "       -678975.85806034, -683973.6764587 , -693372.38074979,\n",
       "       -724325.0703874 , -701778.46327754, -682305.7713199 ,\n",
       "       -705525.3128694 , -648961.42109754, -642494.81375318,\n",
       "       -680369.14168046, -715104.35116185, -673165.49586478,\n",
       "       -694055.0621059 , -610216.69516686, -729472.95780339,\n",
       "       -686513.31006093, -680668.39123448, -684011.59128342,\n",
       "       -745669.40732048, -581799.59343122, -615396.71474387,\n",
       "       -691930.55204731, -715699.96192338, -705541.75638697,\n",
       "       -709785.06014805, -527093.05289853, -643121.55922083,\n",
       "       -682173.0356323 , -708604.60895168, -730644.66976218,\n",
       "       -528833.95124278, -697599.6264023 , -638680.95520929,\n",
       "       -700334.83271192, -684263.75123533, -607699.41786243,\n",
       "       -715193.60936257, -707339.49667447, -718242.44172889,\n",
       "       -670471.86055061, -688263.94298454, -687473.97492148,\n",
       "       -585789.41780038, -647312.09102042, -716598.39576947,\n",
       "       -700966.93814513, -788546.38324319, -630941.1380225 ,\n",
       "       -602654.53240299, -775037.82932752, -673006.830817  ,\n",
       "       -630913.57980718, -725370.91652487, -719119.08943419,\n",
       "       -714869.99851028, -658286.2580148 , -690743.74648398,\n",
       "       -636950.22004173, -713285.76063524, -595724.08117658,\n",
       "       -690617.65935058, -707438.84832722, -663049.60955711,\n",
       "       -699255.93707828, -733955.73727593, -685885.57277349,\n",
       "       -649547.33889855, -638599.78871525, -685064.11048511,\n",
       "       -713211.52523781, -668180.10584887, -560776.600709  ,\n",
       "       -708757.26817271, -617913.18610295, -596608.92561878,\n",
       "       -689317.06048484, -747594.49252326, -611985.09436727,\n",
       "       -638746.81662067, -690616.55261509, -682337.61574565,\n",
       "       -713288.45967084, -695100.9821915 , -699615.5951065 ,\n",
       "       -697030.57581418, -755963.38882445, -682142.82442317,\n",
       "       -619700.48068235, -689230.27088122, -609208.84394407,\n",
       "       -680493.32851479, -676532.04739974, -660252.30713922,\n",
       "       -684827.79251732, -655154.78435317, -563303.09959865,\n",
       "       -629258.62008217, -645136.4374818 , -676811.09684822,\n",
       "       -688068.36649709, -610421.61829152, -621559.52312863,\n",
       "       -610249.38024145, -621386.87196479, -700756.69117064,\n",
       "       -713759.48340744, -705318.38141249, -701710.83068579,\n",
       "       -730186.54484678, -694553.91938644, -716530.88380221,\n",
       "       -586986.64001486, -649246.26854613, -682335.86821594,\n",
       "       -596616.47125445, -646415.61397845, -709814.58169071,\n",
       "       -653246.85928496, -519273.08068864, -697728.57002665,\n",
       "       -697896.94167914, -735394.73080214, -691856.1304311 ,\n",
       "       -606856.68071149, -688568.26298713, -650553.40375119,\n",
       "       -670723.73654895, -661978.36716837, -571029.19759192,\n",
       "       -717349.10944001, -602589.26760164, -626917.98498152,\n",
       "       -695711.53890916, -684816.66576096, -714910.15893734,\n",
       "       -619766.72560243, -589946.67630776, -659795.30654159,\n",
       "       -695987.69696306, -722449.10819844, -559001.70004512,\n",
       "       -630944.3733616 , -729678.24911134, -711606.66342632,\n",
       "       -713142.98890943, -691715.53714633, -679679.19961249,\n",
       "       -602461.73592999, -627564.90112547, -663344.18421537,\n",
       "       -608331.74169978, -627505.80368998, -601643.15961255,\n",
       "       -678949.07834208, -723709.08306323, -600909.56416212,\n",
       "       -626434.41178816, -673976.57180978, -699502.80697594,\n",
       "       -598290.7958357 , -729767.50362398, -621537.13735468,\n",
       "       -680558.91715016, -610276.35726347, -692610.9240659 ,\n",
       "       -688258.45959351, -707799.58169761, -684144.71526052,\n",
       "       -688229.50766822, -703606.57241367, -713223.1263725 ,\n",
       "       -615380.92403028, -674012.45850267, -695660.23074618,\n",
       "       -713405.20603069, -623731.24620002, -700203.73321268,\n",
       "       -671296.64746718, -687610.09992279, -705471.28452165,\n",
       "       -574165.90473134, -612102.69951453, -713273.75946774,\n",
       "       -682586.10317993, -686568.00045398, -716593.51899268,\n",
       "       -667041.40918385, -511465.55561641, -737937.16129159,\n",
       "       -708912.41303228, -605978.06220496, -689839.84501544,\n",
       "       -618042.60126796, -706925.27857919, -644657.80641954,\n",
       "       -703449.17654275, -572490.5878433 , -673026.79408149,\n",
       "       -632659.44429645, -583629.59175804, -655072.09528718,\n",
       "       -641097.08059047, -675051.58970475, -709264.90901622,\n",
       "       -673861.08044368, -713401.33418968, -705022.72732103,\n",
       "       -630962.40049277, -705355.75649537, -723750.38705316,\n",
       "       -713796.3156113 , -635810.88308867, -564512.56871174,\n",
       "       -713505.39820996, -707819.63867468, -732138.38876964,\n",
       "       -690893.17642204, -596543.31526766, -675344.20086315,\n",
       "       -613303.77813537, -692871.79512713, -630340.72970493,\n",
       "       -623221.93596559, -626651.41641498, -600949.08940958,\n",
       "       -674771.01169262, -591092.1110457 , -673795.13731814,\n",
       "       -629130.60443197, -619616.17067002, -648342.80426231,\n",
       "       -713207.90925564, -704094.21864116, -679831.99025015,\n",
       "       -736552.70370842, -630492.81428761, -713466.16601493,\n",
       "       -691629.02884256, -619718.5917288 , -688527.89512666,\n",
       "       -707310.5250781 , -683057.08022961, -600919.60474076,\n",
       "       -691039.51866916, -716702.14806301, -615320.48329851,\n",
       "       -624105.90474701, -672716.50948087, -729554.74283667,\n",
       "       -722534.19851841, -699742.75477835, -676662.56787111,\n",
       "       -714885.19903966, -597487.17718882, -704209.54005479,\n",
       "       -640397.58147376, -621522.19753403, -562904.46926741,\n",
       "       -691656.64904233, -695529.78029978, -713181.99131364,\n",
       "       -617100.63205511, -709838.56498706, -597463.24229958,\n",
       "       -605966.11673488, -690090.55317935, -699340.65054133,\n",
       "       -596567.43796384, -678027.67458219, -700180.83948744,\n",
       "       -713183.08417954, -678288.20826389, -630949.5575128 ,\n",
       "       -620884.86470108, -694151.00008901, -678265.08158958,\n",
       "       -696974.5751099 , -665339.04793037, -651515.9507802 ,\n",
       "       -682160.19838486, -691273.20464187, -686748.5141154 ,\n",
       "       -681798.70450439, -685936.1714918 , -670822.70985893,\n",
       "       -673606.65233761, -708359.77873248, -674887.74095991,\n",
       "       -699276.22934118, -635264.30680974, -722359.55017559,\n",
       "       -526289.83563114, -690683.10073784, -711420.68525595,\n",
       "       -676092.67179999, -658508.05654077, -638686.34499172,\n",
       "       -637599.54677438, -615568.1068154 , -722653.56607689,\n",
       "       -706610.34039833, -606025.66588298, -597366.33614063,\n",
       "       -629269.26656742, -687711.08269685, -634274.8618761 ,\n",
       "       -699279.44609751, -716534.08645105, -683862.85169864])"
      ]
     },
     "execution_count": 28,
     "metadata": {},
     "output_type": "execute_result"
    }
   ],
   "source": [
    "lr_test_predictions"
   ]
  },
  {
   "cell_type": "code",
   "execution_count": 29,
   "metadata": {},
   "outputs": [
    {
     "data": {
      "text/plain": [
       "Id                  1474.033642\n",
       "Lot Area           10065.208191\n",
       "Overall Qual           6.112140\n",
       "Year Built          1971.708922\n",
       "Year Remod/Add      1984.190151\n",
       "Mas Vnr Area          98.626524\n",
       "Exter Qual             3.406143\n",
       "Bsmt Qual              3.490005\n",
       "Gr Liv Area         1499.330083\n",
       "Full Bath              1.577279\n",
       "Half Bath              0.371039\n",
       "Total Bsmt SF       1057.471965\n",
       "Garage Cars            1.775719\n",
       "Garage Area          473.440761\n",
       "Fireplaces             0.590931\n",
       "TotRms AbvGrd          6.435885\n",
       "Kitchen Qual           3.517309\n",
       "SalePrice         181469.701609\n",
       "dtype: float64"
      ]
     },
     "execution_count": 29,
     "metadata": {},
     "output_type": "execute_result"
    }
   ],
   "source": [
    "data.mean()"
   ]
  },
  {
   "cell_type": "code",
   "execution_count": null,
   "metadata": {},
   "outputs": [],
   "source": []
  },
  {
   "cell_type": "code",
   "execution_count": 31,
   "metadata": {},
   "outputs": [
    {
     "data": {
      "text/plain": [
       "Id                 1445.588168\n",
       "Lot Area          10340.920364\n",
       "Overall Qual          6.054608\n",
       "Year Built         1970.533561\n",
       "Year Remod/Add     1984.444824\n",
       "Mas Vnr Area        106.861206\n",
       "Exter Qual            3.381115\n",
       "Bsmt Qual             3.452787\n",
       "Gr Liv Area        1500.531286\n",
       "Full Bath             1.541524\n",
       "Half Bath             0.399317\n",
       "Total Bsmt SF      1036.750853\n",
       "Garage Cars           1.744027\n",
       "Garage Area         470.832765\n",
       "Fireplaces            0.618885\n",
       "TotRms AbvGrd         6.459613\n",
       "Kitchen Qual          3.497156\n",
       "dtype: float64"
      ]
     },
     "execution_count": 31,
     "metadata": {},
     "output_type": "execute_result"
    }
   ],
   "source": [
    "test_final.mean()"
   ]
  },
  {
   "cell_type": "code",
   "execution_count": null,
   "metadata": {},
   "outputs": [],
   "source": [
    "lasso_predictions = lasso_model.predict(test_scale)\n",
    "lasso_predictions"
   ]
  },
  {
   "cell_type": "code",
   "execution_count": null,
   "metadata": {},
   "outputs": [],
   "source": []
  },
  {
   "cell_type": "code",
   "execution_count": null,
   "metadata": {},
   "outputs": [],
   "source": []
  },
  {
   "cell_type": "code",
   "execution_count": null,
   "metadata": {},
   "outputs": [],
   "source": [
    "lr_test_predictions = lr.predict(pre_test_overfit)"
   ]
  },
  {
   "cell_type": "code",
   "execution_count": null,
   "metadata": {},
   "outputs": [],
   "source": [
    "test_overfit = poly.fit_transform(pre_test_overfit)"
   ]
  },
  {
   "cell_type": "code",
   "execution_count": null,
   "metadata": {},
   "outputs": [],
   "source": [
    "test_overfit"
   ]
  },
  {
   "cell_type": "code",
   "execution_count": null,
   "metadata": {},
   "outputs": [],
   "source": [
    "test_overfit_scale = pd.DataFrame(ss_overfit.fit_transform(test_overfit))"
   ]
  },
  {
   "cell_type": "code",
   "execution_count": null,
   "metadata": {},
   "outputs": [],
   "source": [
    "test_overfit_scale.head()"
   ]
  },
  {
   "cell_type": "code",
   "execution_count": null,
   "metadata": {},
   "outputs": [],
   "source": [
    "lr_preds_test = lr_model.predict(test_overfit_scale)"
   ]
  },
  {
   "cell_type": "code",
   "execution_count": null,
   "metadata": {},
   "outputs": [],
   "source": [
    "lr_preds_test"
   ]
  },
  {
   "cell_type": "code",
   "execution_count": null,
   "metadata": {},
   "outputs": [],
   "source": []
  },
  {
   "cell_type": "code",
   "execution_count": null,
   "metadata": {},
   "outputs": [],
   "source": []
  },
  {
   "cell_type": "code",
   "execution_count": null,
   "metadata": {},
   "outputs": [],
   "source": []
  },
  {
   "cell_type": "code",
   "execution_count": null,
   "metadata": {},
   "outputs": [],
   "source": []
  },
  {
   "cell_type": "code",
   "execution_count": null,
   "metadata": {},
   "outputs": [],
   "source": []
  },
  {
   "cell_type": "code",
   "execution_count": null,
   "metadata": {},
   "outputs": [],
   "source": [
    "y_pred_test_ridge = ridge_model.predict(test_overfit_scale)\n",
    "y_pred_test_ridge\n"
   ]
  },
  {
   "cell_type": "code",
   "execution_count": null,
   "metadata": {},
   "outputs": [],
   "source": [
    "#linear predictions\n",
    "y_kaggle_df = pd.DataFrame(index=test_final['Id'], data=lr_test_predictions, columns=['SalePrice'])\n",
    "y_kaggle_df.to_csv('./datasets/submission.csv')"
   ]
  },
  {
   "cell_type": "code",
   "execution_count": null,
   "metadata": {},
   "outputs": [],
   "source": [
    "y_kaggle_df.head(100)"
   ]
  },
  {
   "cell_type": "code",
   "execution_count": null,
   "metadata": {},
   "outputs": [],
   "source": []
  }
 ],
 "metadata": {
  "kernelspec": {
   "display_name": "Python 3",
   "language": "python",
   "name": "python3"
  },
  "language_info": {
   "codemirror_mode": {
    "name": "ipython",
    "version": 3
   },
   "file_extension": ".py",
   "mimetype": "text/x-python",
   "name": "python",
   "nbconvert_exporter": "python",
   "pygments_lexer": "ipython3",
   "version": "3.6.8"
  }
 },
 "nbformat": 4,
 "nbformat_minor": 2
}
